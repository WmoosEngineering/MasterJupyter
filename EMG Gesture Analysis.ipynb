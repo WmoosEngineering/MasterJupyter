{
 "cells": [
  {
   "cell_type": "markdown",
   "metadata": {},
   "source": [
    "# EMG GESTURE ANALYSIS\n",
    "Realizaremos el analisis estadistico y grafico de los gestos de la mano registrados\n",
    "por un brazalete que posee 8 sensores de EMG\n",
    " \n",
    "La base de datos usada corresponde a los gestos de la mano\n",
    "registrados por una persona.\n",
    "\n",
    "Se diferencias 6 categorias en la columna \"activity\"\n",
    "- waveOut\n",
    "- waveIn\n",
    "- fist\n",
    "- pinch\n",
    "- open\n",
    "- noGesture\n",
    "\n",
    "Cada columna WMoos_F5_Ms1 ... WMoos_F5_Ms8 corresponse a la energia de ese sensor\n",
    "al momento de registar un gesto\n",
    "\n",
    "Hay 50 repeticiones por cada gesto, en total 300 repeticiones ya que hay 6 gestos"
   ]
  },
  {
   "cell_type": "markdown",
   "metadata": {},
   "source": [
    "## Importacion de librerias"
   ]
  },
  {
   "cell_type": "code",
   "execution_count": 5,
   "metadata": {},
   "outputs": [],
   "source": [
    "# Importacion de librerias\n",
    "import numpy as np\n",
    "import pandas as pd"
   ]
  },
  {
   "cell_type": "markdown",
   "metadata": {},
   "source": [
    "## Carga de la base de datos \"DataBase200Corrected\""
   ]
  },
  {
   "cell_type": "code",
   "execution_count": 6,
   "metadata": {},
   "outputs": [
    {
     "name": "stdout",
     "output_type": "stream",
     "text": [
      "     WMoos_F5_Ms1  WMoos_F5_Ms2  WMoos_F5_Ms3  WMoos_F5_Ms4  WMoos_F5_Ms5  \\\n",
      "0       15.799835     20.895050      3.482697      1.201355      0.560547   \n",
      "1       17.736023     17.792938      3.647522      1.320618      1.033264   \n",
      "2       20.695984     20.640320      7.135101      2.431152      1.533081   \n",
      "3       16.519836     23.637054      4.135712      1.456970      0.866333   \n",
      "4       21.847046     21.610321      4.969666      1.653229      1.067352   \n",
      "..            ...           ...           ...           ...           ...   \n",
      "295      0.200775      0.031342      0.021698      0.020416      0.015594   \n",
      "296      0.223511      0.025024      0.017975      0.017944      0.014221   \n",
      "297      0.229462      0.022736      0.015045      0.016541      0.017181   \n",
      "298      0.564728      0.093567      0.031982      0.020660      0.014435   \n",
      "299      0.187469      0.025024      0.014801      0.018768      0.012634   \n",
      "\n",
      "     WMoos_F5_Ms6  WMoos_F5_Ms7  WMoos_F5_Ms8   activity  \n",
      "0        1.183777      2.088654     10.388794    waveOut  \n",
      "1        0.687256      1.408051      5.827820    waveOut  \n",
      "2        2.460205      4.147430     12.092896    waveOut  \n",
      "3        3.391846      2.986603      7.303253    waveOut  \n",
      "4        2.617065      3.894714     13.129517    waveOut  \n",
      "..            ...           ...           ...        ...  \n",
      "295      0.015259      0.019226      0.081787  noGesture  \n",
      "296      0.015808      0.017883      0.095093  noGesture  \n",
      "297      0.015503      0.018372      0.065399  noGesture  \n",
      "298      0.015381      0.038574      0.144897  noGesture  \n",
      "299      0.016785      0.020477      0.078186  noGesture  \n",
      "\n",
      "[300 rows x 9 columns]\n"
     ]
    }
   ],
   "source": [
    "# Opcion de lectura de datos N 1\n",
    "# Lectura de datos mediante el uso de una funcion propia \n",
    "\n",
    "#def readEmgData(path):\n",
    "#    try:\n",
    "#        archivo_abierto = open(path, \"r\")\n",
    "#        lineas = archivo_abierto.readlines()\n",
    "#        for linea in lineas:\n",
    "#            print(linea)\n",
    "#    except error:\n",
    "#       print(error)\n",
    "#        print(\":'( Lei mal el archivo\")\n",
    "#path = \"./DataBase200Corrected.csv\"\n",
    "#emgGesturesSecondMode=readEmgData(path)\n",
    "\n",
    "\n",
    "# ===============================================\n",
    "# Opcion de lectura de datos N 2\n",
    "# Lectura de datos mediante el uso de pandas\n",
    "\n",
    "path = \"./DataBase200Corrected.csv\"\n",
    "emgGestures = pd.read_csv(path)\n",
    "print (emgGestures)"
   ]
  },
  {
   "cell_type": "markdown",
   "metadata": {},
   "source": [
    "## Operaciones básicas de datos"
   ]
  },
  {
   "cell_type": "markdown",
   "metadata": {},
   "source": [
    "##### Se realiza el analisis con 2 sensores. Sensor 1 \"WMoos_F5_Ms1\" y el sensor 4 \"WMoos_F5_Ms4\""
   ]
  },
  {
   "cell_type": "code",
   "execution_count": 31,
   "metadata": {},
   "outputs": [
    {
     "name": "stdout",
     "output_type": "stream",
     "text": [
      "<class 'pandas.core.series.Series'>\n",
      "<class 'pandas.core.series.Series'>\n"
     ]
    }
   ],
   "source": [
    "emgSensorOne  = emgGestures['WMoos_F5_Ms1']\n",
    "emgSensorFour = emgGestures['WMoos_F5_Ms4']\n",
    "print(type(emgSensorOne))\n",
    "print(type(emgSensorFour))"
   ]
  },
  {
   "cell_type": "markdown",
   "metadata": {},
   "source": [
    "##### Impresion de 10 datos de cada sensor"
   ]
  },
  {
   "cell_type": "code",
   "execution_count": 17,
   "metadata": {},
   "outputs": [
    {
     "name": "stdout",
     "output_type": "stream",
     "text": [
      "[0    15.799835\n",
      "1    17.736023\n",
      "2    20.695984\n",
      "3    16.519836\n",
      "4    21.847046\n",
      "5    21.252960\n",
      "6    25.490204\n",
      "7    18.204712\n",
      "8    17.536499\n",
      "9    21.144531\n",
      "Name: WMoos_F5_Ms1, dtype: float64, 0    1.201355\n",
      "1    1.320618\n",
      "2    2.431152\n",
      "3    1.456970\n",
      "4    1.653229\n",
      "5    1.540070\n",
      "6    1.845215\n",
      "7    1.825897\n",
      "8    2.297760\n",
      "9    1.094055\n",
      "Name: WMoos_F5_Ms4, dtype: float64]\n"
     ]
    }
   ],
   "source": [
    "summary=[emgSensorOne[0:10],emgSensorFour[0:10]]\n",
    "print(summary)"
   ]
  },
  {
   "cell_type": "markdown",
   "metadata": {},
   "source": [
    "### Valor medio"
   ]
  },
  {
   "cell_type": "code",
   "execution_count": 33,
   "metadata": {},
   "outputs": [
    {
     "name": "stdout",
     "output_type": "stream",
     "text": [
      "18.832512207199997\n",
      "2.5056884766199996\n",
      "3.3360333252200003\n",
      "11.968095092559999\n",
      "5.1752136230199985\n",
      "0.41298156736\n",
      "<class 'float'>\n"
     ]
    }
   ],
   "source": [
    "\n",
    "# Valor medio sensor 1 \"WMoos_F5_Ms1\" \n",
    "\n",
    "# Gesto \"WAVEOUT\"\n",
    "Ms1_waveOut        = emgSensorOne[0:50]\n",
    "Ms1_waveOut_mean   = np.mean(Ms1_waveOut)\n",
    "print(Ms1_waveOut_mean)\n",
    "\n",
    "# Gesto \"WAVEIN\"\n",
    "Ms1_waveIn        = emgSensorOne[50:100]\n",
    "Ms1_waveIn_mean   = np.mean(Ms1_waveIn)\n",
    "print(Ms1_waveIn_mean)\n",
    "\n",
    "# Gesto \"FIST\"\n",
    "Ms1_fist        = emgSensorOne[100:150]\n",
    "Ms1_fist_mean   = np.mean(Ms1_fist)\n",
    "print(Ms1_fist_mean)\n",
    "\n",
    "# Gesto \"OPEN\"\n",
    "Ms1_open        = emgSensorOne[150:200]\n",
    "Ms1_open_mean   = np.mean(Ms1_open )\n",
    "print(Ms1_open_mean)\n",
    "\n",
    "# Gesto \"PINCH\"\n",
    "Ms1_pinch        = emgSensorOne[200:250]\n",
    "Ms1_pinch_mean   = np.mean(Ms1_pinch)\n",
    "print(Ms1_pinch_mean)\n",
    "\n",
    "\n",
    "# Gesto \"NOGESTURE\"\n",
    "Ms1_noGesture        = emgSensorOne[250:300]\n",
    "Ms1_noGesture_mean   = np.mean(Ms1_noGesture)\n",
    "print(Ms1_noGesture_mean)\n",
    "print(type(Ms1_noGesture_mean))"
   ]
  },
  {
   "cell_type": "code",
   "execution_count": 34,
   "metadata": {},
   "outputs": [
    {
     "name": "stdout",
     "output_type": "stream",
     "text": [
      "[18.832512207199997, 2.5056884766199996, 3.3360333252200003, 11.968095092559999, 5.1752136230199985, 0.41298156736]\n",
      "<class 'list'>\n"
     ]
    }
   ],
   "source": [
    "Ms1_summary=[Ms1_waveOut_mean,Ms1_waveIn_mean,Ms1_fist_mean,Ms1_open_mean,Ms1_pinch_mean,Ms1_noGesture_mean]\n",
    "print(Ms1_summary)\n",
    "print(type(Ms1_summary))"
   ]
  },
  {
   "cell_type": "code",
   "execution_count": 21,
   "metadata": {},
   "outputs": [
    {
     "data": {
      "image/png": "[encoded data removed]",
      "text/plain": [
       "<Figure size 432x288 with 1 Axes>"
      ]
     },
     "metadata": {
      "needs_background": "light"
     },
     "output_type": "display_data"
    }
   ],
   "source": [
    "# Graficas comparativas del valor medio por gesto ene el sensor 1 \"WMoos_F5_Ms1\" \n",
    "\n",
    "df = pd.DataFrame({'Gesture Mean Energy':['WAVEOUT', 'WAVEIN', 'FIST','OPEN','PINCH','NOGESTURE'], \n",
    "                   'Energy Sensor 1':Ms1_summary})\n",
    "ax = df.plot.bar(x='Gesture Mean Energy', y='Energy Sensor 1', rot=0)"
   ]
  },
  {
   "cell_type": "code",
   "execution_count": 22,
   "metadata": {},
   "outputs": [
    {
     "name": "stdout",
     "output_type": "stream",
     "text": [
      "1.6110205078400002\n",
      "4.03719299314\n",
      "0.49891662600000003\n",
      "0.8442321777200003\n",
      "0.4444671631200001\n",
      "0.021368408199999994\n"
     ]
    }
   ],
   "source": [
    "# Valor medio sensor 4 \"WMoos_F5_Ms4\" \n",
    "\n",
    "# Gesto \"WAVEOUT\"\n",
    "Ms4_waveOut        = emgSensorFour[0:50]\n",
    "Ms4_waveOut_mean   = np.mean(Ms4_waveOut)\n",
    "print(Ms4_waveOut_mean)\n",
    "\n",
    "# Gesto \"WAVEIN\"\n",
    "Ms4_waveIn        = emgSensorFour[50:100]\n",
    "Ms4_waveIn_mean   = np.mean(Ms4_waveIn)\n",
    "print(Ms4_waveIn_mean)\n",
    "\n",
    "# Gesto \"FIST\"\n",
    "Ms4_fist        = emgSensorFour[100:150]\n",
    "Ms4_fist_mean   = np.mean(Ms4_fist)\n",
    "print(Ms4_fist_mean)\n",
    "\n",
    "# Gesto \"OPEN\"\n",
    "Ms4_open        = emgSensorFour[150:200]\n",
    "Ms4_open_mean   = np.mean(Ms4_open )\n",
    "print(Ms4_open_mean)\n",
    "\n",
    "# Gesto \"PINCH\"\n",
    "Ms4_pinch        = emgSensorFour[200:250]\n",
    "Ms4_pinch_mean   = np.mean(Ms4_pinch)\n",
    "print(Ms4_pinch_mean)\n",
    "\n",
    "\n",
    "# Gesto \"NOGESTURE\"\n",
    "Ms4_noGesture        = emgSensorFour[250:300]\n",
    "Ms4_noGesture_mean   = np.mean(Ms4_noGesture)\n",
    "print(Ms4_noGesture_mean)"
   ]
  },
  {
   "cell_type": "code",
   "execution_count": 23,
   "metadata": {},
   "outputs": [
    {
     "name": "stdout",
     "output_type": "stream",
     "text": [
      "[1.6110205078400002, 4.03719299314, 0.49891662600000003, 0.8442321777200003, 0.4444671631200001, 0.021368408199999994]\n"
     ]
    }
   ],
   "source": [
    "Ms4_summary=[Ms4_waveOut_mean,Ms4_waveIn_mean,Ms4_fist_mean,Ms4_open_mean,Ms4_pinch_mean,Ms4_noGesture_mean]\n",
    "print(Ms4_summary)"
   ]
  },
  {
   "cell_type": "code",
   "execution_count": 29,
   "metadata": {},
   "outputs": [
    {
     "data": {
      "image/png": "[encoded data removed]",
      "text/plain": [
       "<Figure size 432x288 with 1 Axes>"
      ]
     },
     "metadata": {
      "needs_background": "light"
     },
     "output_type": "display_data"
    }
   ],
   "source": [
    "# Graficas comparativas del valor medio por gesto ene el sensor 4 \"WMoos_F5_Ms4\" \n",
    "\n",
    "df = pd.DataFrame({'Gesture Mean Energy':['WAVEOUT', 'WAVEIN', 'FIST','OPEN','PINCH','NOGESTURE'], \n",
    "                   'Energy Sensor 4':Ms4_summary})\n",
    "ax = df.plot.bar(x='Gesture Mean Energy', y='Energy Sensor 4', rot=0)"
   ]
  },
  {
   "cell_type": "markdown",
   "metadata": {},
   "source": [
    "#### Comparacion de graficas"
   ]
  },
  {
   "cell_type": "code",
   "execution_count": 30,
   "metadata": {},
   "outputs": [
    {
     "data": {
      "image/png": "[encoded data removed]",
      "text/plain": [
       "<Figure size 432x288 with 1 Axes>"
      ]
     },
     "metadata": {
      "needs_background": "light"
     },
     "output_type": "display_data"
    },
    {
     "data": {
      "image/png": "[encoded data removed]",
      "text/plain": [
       "<Figure size 432x288 with 1 Axes>"
      ]
     },
     "metadata": {
      "needs_background": "light"
     },
     "output_type": "display_data"
    }
   ],
   "source": [
    "# Graficas comparativas del valor medio por gesto ene el sensor 1 \"WMoos_F5_Ms1\" \n",
    "\n",
    "df = pd.DataFrame({'Gesture Mean Energy':['WAVEOUT', 'WAVEIN', 'FIST','OPEN','PINCH','NOGESTURE'], \n",
    "                   'Energy Sensor 1':Ms1_summary})\n",
    "ax = df.plot.bar(x='Gesture Mean Energy', y='Energy Sensor 1', rot=0)\n",
    "\n",
    "# Graficas comparativas del valor medio por gesto ene el sensor 4 \"WMoos_F5_Ms4\" \n",
    "\n",
    "df = pd.DataFrame({'Gesture Mean Energy':['WAVEOUT', 'WAVEIN', 'FIST','OPEN','PINCH','NOGESTURE'], \n",
    "                   'Energy Sensor 4':Ms4_summary})\n",
    "ax = df.plot.bar(x='Gesture Mean Energy', y='Energy Sensor 4', rot=0)"
   ]
  },
  {
   "cell_type": "code",
   "execution_count": null,
   "metadata": {},
   "outputs": [],
   "source": []
  },
  {
   "cell_type": "code",
   "execution_count": null,
   "metadata": {},
   "outputs": [],
   "source": []
  },
  {
   "cell_type": "code",
   "execution_count": null,
   "metadata": {},
   "outputs": [],
   "source": []
  },
  {
   "cell_type": "code",
   "execution_count": null,
   "metadata": {},
   "outputs": [],
   "source": []
  }
 ],
 "metadata": {
  "kernelspec": {
   "display_name": "Python 3",
   "language": "python",
   "name": "python3"
  },
  "language_info": {
   "codemirror_mode": {
    "name": "ipython",
    "version": 3
   },
   "file_extension": ".py",
   "mimetype": "text/x-python",
   "name": "python",
   "nbconvert_exporter": "python",
   "pygments_lexer": "ipython3",
   "version": "3.7.4"
  }
 },
 "nbformat": 4,
 "nbformat_minor": 2
}
